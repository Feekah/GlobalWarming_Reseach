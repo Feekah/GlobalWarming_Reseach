{
 "cells": [
  {
   "cell_type": "code",
   "execution_count": 2,
   "source": [
    "import pandas as pd\n",
    "import numpy as np\n",
    "import matplotlib.pyplot as plt"
   ],
   "outputs": [],
   "metadata": {}
  },
  {
   "cell_type": "code",
   "execution_count": 57,
   "source": [
    "data = pd.read_csv(\"city_temperature.csv\")"
   ],
   "outputs": [
    {
     "output_type": "stream",
     "name": "stderr",
     "text": [
      "/Users/feekah/opt/anaconda3/lib/python3.8/site-packages/IPython/core/interactiveshell.py:3165: DtypeWarning: Columns (2) have mixed types.Specify dtype option on import or set low_memory=False.\n",
      "  has_raised = await self.run_ast_nodes(code_ast.body, cell_name,\n"
     ]
    }
   ],
   "metadata": {}
  },
  {
   "cell_type": "code",
   "execution_count": 8,
   "source": [
    "data.head(5)\n",
    "data.describe()\n",
    "data.head(5)"
   ],
   "outputs": [
    {
     "output_type": "execute_result",
     "data": {
      "text/html": [
       "<div>\n",
       "<style scoped>\n",
       "    .dataframe tbody tr th:only-of-type {\n",
       "        vertical-align: middle;\n",
       "    }\n",
       "\n",
       "    .dataframe tbody tr th {\n",
       "        vertical-align: top;\n",
       "    }\n",
       "\n",
       "    .dataframe thead th {\n",
       "        text-align: right;\n",
       "    }\n",
       "</style>\n",
       "<table border=\"1\" class=\"dataframe\">\n",
       "  <thead>\n",
       "    <tr style=\"text-align: right;\">\n",
       "      <th></th>\n",
       "      <th>Region</th>\n",
       "      <th>Country</th>\n",
       "      <th>State</th>\n",
       "      <th>City</th>\n",
       "      <th>Month</th>\n",
       "      <th>Day</th>\n",
       "      <th>Year</th>\n",
       "      <th>AvgTemperature</th>\n",
       "    </tr>\n",
       "  </thead>\n",
       "  <tbody>\n",
       "    <tr>\n",
       "      <th>0</th>\n",
       "      <td>Africa</td>\n",
       "      <td>Algeria</td>\n",
       "      <td>NaN</td>\n",
       "      <td>Algiers</td>\n",
       "      <td>1</td>\n",
       "      <td>1</td>\n",
       "      <td>1995</td>\n",
       "      <td>64.2</td>\n",
       "    </tr>\n",
       "    <tr>\n",
       "      <th>1</th>\n",
       "      <td>Africa</td>\n",
       "      <td>Algeria</td>\n",
       "      <td>NaN</td>\n",
       "      <td>Algiers</td>\n",
       "      <td>1</td>\n",
       "      <td>2</td>\n",
       "      <td>1995</td>\n",
       "      <td>49.4</td>\n",
       "    </tr>\n",
       "    <tr>\n",
       "      <th>2</th>\n",
       "      <td>Africa</td>\n",
       "      <td>Algeria</td>\n",
       "      <td>NaN</td>\n",
       "      <td>Algiers</td>\n",
       "      <td>1</td>\n",
       "      <td>3</td>\n",
       "      <td>1995</td>\n",
       "      <td>48.8</td>\n",
       "    </tr>\n",
       "    <tr>\n",
       "      <th>3</th>\n",
       "      <td>Africa</td>\n",
       "      <td>Algeria</td>\n",
       "      <td>NaN</td>\n",
       "      <td>Algiers</td>\n",
       "      <td>1</td>\n",
       "      <td>4</td>\n",
       "      <td>1995</td>\n",
       "      <td>46.4</td>\n",
       "    </tr>\n",
       "    <tr>\n",
       "      <th>4</th>\n",
       "      <td>Africa</td>\n",
       "      <td>Algeria</td>\n",
       "      <td>NaN</td>\n",
       "      <td>Algiers</td>\n",
       "      <td>1</td>\n",
       "      <td>5</td>\n",
       "      <td>1995</td>\n",
       "      <td>47.9</td>\n",
       "    </tr>\n",
       "  </tbody>\n",
       "</table>\n",
       "</div>"
      ],
      "text/plain": [
       "   Region  Country State     City  Month  Day  Year  AvgTemperature\n",
       "0  Africa  Algeria   NaN  Algiers      1    1  1995            64.2\n",
       "1  Africa  Algeria   NaN  Algiers      1    2  1995            49.4\n",
       "2  Africa  Algeria   NaN  Algiers      1    3  1995            48.8\n",
       "3  Africa  Algeria   NaN  Algiers      1    4  1995            46.4\n",
       "4  Africa  Algeria   NaN  Algiers      1    5  1995            47.9"
      ]
     },
     "metadata": {},
     "execution_count": 8
    }
   ],
   "metadata": {}
  },
  {
   "cell_type": "code",
   "execution_count": 24,
   "source": [
    "#Create a list of Countries having the most sever global warming effects\n",
    "#These countries were gotten from the article with link below\n",
    "#https://thehill.com/changing-america/sustainability/climate-change/526684-these-are-the-10-countries-most-at-risk-from/\n",
    "\n",
    "GWCountries = ['Japan', 'Philippines', 'Germany', 'Madagascar', 'India', 'Sri Lanka', 'Kenya', 'Rwanda', 'Canada', 'Fiji']\n",
    "\n",
    "#Derive the countries of focus, and the year of focus\n",
    "GWCountries_Data = data.loc[(data['Country'].isin(GWCountries)) & (data['Year'].isin([1995, 2010]))]\n",
    "GWCountries_Data.head()"
   ],
   "outputs": [
    {
     "output_type": "execute_result",
     "data": {
      "text/html": [
       "<div>\n",
       "<style scoped>\n",
       "    .dataframe tbody tr th:only-of-type {\n",
       "        vertical-align: middle;\n",
       "    }\n",
       "\n",
       "    .dataframe tbody tr th {\n",
       "        vertical-align: top;\n",
       "    }\n",
       "\n",
       "    .dataframe thead th {\n",
       "        text-align: right;\n",
       "    }\n",
       "</style>\n",
       "<table border=\"1\" class=\"dataframe\">\n",
       "  <thead>\n",
       "    <tr style=\"text-align: right;\">\n",
       "      <th></th>\n",
       "      <th>Region</th>\n",
       "      <th>Country</th>\n",
       "      <th>State</th>\n",
       "      <th>City</th>\n",
       "      <th>Month</th>\n",
       "      <th>Day</th>\n",
       "      <th>Year</th>\n",
       "      <th>AvgTemperature</th>\n",
       "    </tr>\n",
       "  </thead>\n",
       "  <tbody>\n",
       "    <tr>\n",
       "      <th>105765</th>\n",
       "      <td>Africa</td>\n",
       "      <td>Kenya</td>\n",
       "      <td>NaN</td>\n",
       "      <td>Nairobi</td>\n",
       "      <td>1</td>\n",
       "      <td>1</td>\n",
       "      <td>1995</td>\n",
       "      <td>-99.0</td>\n",
       "    </tr>\n",
       "    <tr>\n",
       "      <th>105766</th>\n",
       "      <td>Africa</td>\n",
       "      <td>Kenya</td>\n",
       "      <td>NaN</td>\n",
       "      <td>Nairobi</td>\n",
       "      <td>1</td>\n",
       "      <td>2</td>\n",
       "      <td>1995</td>\n",
       "      <td>73.7</td>\n",
       "    </tr>\n",
       "    <tr>\n",
       "      <th>105767</th>\n",
       "      <td>Africa</td>\n",
       "      <td>Kenya</td>\n",
       "      <td>NaN</td>\n",
       "      <td>Nairobi</td>\n",
       "      <td>1</td>\n",
       "      <td>3</td>\n",
       "      <td>1995</td>\n",
       "      <td>71.4</td>\n",
       "    </tr>\n",
       "    <tr>\n",
       "      <th>105768</th>\n",
       "      <td>Africa</td>\n",
       "      <td>Kenya</td>\n",
       "      <td>NaN</td>\n",
       "      <td>Nairobi</td>\n",
       "      <td>1</td>\n",
       "      <td>4</td>\n",
       "      <td>1995</td>\n",
       "      <td>68.4</td>\n",
       "    </tr>\n",
       "    <tr>\n",
       "      <th>105769</th>\n",
       "      <td>Africa</td>\n",
       "      <td>Kenya</td>\n",
       "      <td>NaN</td>\n",
       "      <td>Nairobi</td>\n",
       "      <td>1</td>\n",
       "      <td>5</td>\n",
       "      <td>1995</td>\n",
       "      <td>65.3</td>\n",
       "    </tr>\n",
       "  </tbody>\n",
       "</table>\n",
       "</div>"
      ],
      "text/plain": [
       "        Region Country State     City  Month  Day  Year  AvgTemperature\n",
       "105765  Africa   Kenya   NaN  Nairobi      1    1  1995           -99.0\n",
       "105766  Africa   Kenya   NaN  Nairobi      1    2  1995            73.7\n",
       "105767  Africa   Kenya   NaN  Nairobi      1    3  1995            71.4\n",
       "105768  Africa   Kenya   NaN  Nairobi      1    4  1995            68.4\n",
       "105769  Africa   Kenya   NaN  Nairobi      1    5  1995            65.3"
      ]
     },
     "metadata": {},
     "execution_count": 24
    }
   ],
   "metadata": {}
  },
  {
   "cell_type": "code",
   "execution_count": 26,
   "source": [
    "#Deriving the average temperature for each month for each year for each city for each country\n",
    "df1 = GWCountries_Data.groupby(['Country','City', 'Year', 'Month'],as_index=False).AvgTemperature.mean()\n",
    "print(df1)"
   ],
   "outputs": [
    {
     "output_type": "stream",
     "name": "stdout",
     "text": [
      "       Country     City  Year  Month  AvgTemperature\n",
      "0       Canada  Calgary  1995      1       18.522581\n",
      "1       Canada  Calgary  1995      2       22.932143\n",
      "2       Canada  Calgary  1995      3       27.000000\n",
      "3       Canada  Calgary  1995      4       37.463333\n",
      "4       Canada  Calgary  1995      5       48.970968\n",
      "..         ...      ...   ...    ...             ...\n",
      "567  Sri Lanka  Colombo  2010      8       81.493548\n",
      "568  Sri Lanka  Colombo  2010      9       81.356667\n",
      "569  Sri Lanka  Colombo  2010     10       81.487097\n",
      "570  Sri Lanka  Colombo  2010     11       79.830000\n",
      "571  Sri Lanka  Colombo  2010     12       78.293548\n",
      "\n",
      "[572 rows x 5 columns]\n"
     ]
    }
   ],
   "metadata": {}
  },
  {
   "cell_type": "code",
   "execution_count": 28,
   "source": [
    "#Deriving the maximum temperature for each year for each city for each country\n",
    "df2 = df1.groupby(['Country','City', 'Year'],as_index=False).AvgTemperature.max()\n",
    "print(df2)"
   ],
   "outputs": [
    {
     "output_type": "stream",
     "name": "stdout",
     "text": [
      "        Country              City  Year  AvgTemperature\n",
      "0        Canada           Calgary  1995       59.729032\n",
      "1        Canada           Calgary  2010       61.280645\n",
      "2        Canada          Edmonton  1995       62.593548\n",
      "3        Canada          Edmonton  2010       63.767742\n",
      "4        Canada           Halifax  1995       66.232258\n",
      "5        Canada           Halifax  2010       66.580645\n",
      "6        Canada          Montreal  1995       72.122581\n",
      "7        Canada          Montreal  2010       73.580645\n",
      "8        Canada            Ottawa  1995       71.141935\n",
      "9        Canada            Ottawa  2010       72.561290\n",
      "10       Canada            Quebec  1995       69.441935\n",
      "11       Canada            Quebec  2010       70.503226\n",
      "12       Canada            Regina  1995       65.490323\n",
      "13       Canada            Regina  2010       64.803226\n",
      "14       Canada           Toronto  1995       71.616129\n",
      "15       Canada           Toronto  2010       74.393548\n",
      "16       Canada         Vancouver  1995       65.145161\n",
      "17       Canada         Vancouver  2010       64.690323\n",
      "18       Canada          Winnipeg  1995       68.990000\n",
      "19       Canada          Winnipeg  2010       68.696774\n",
      "20      Germany              Bonn  1995       -4.370968\n",
      "21      Germany         Frankfurt  1995       25.474194\n",
      "22      Germany           Hamburg  1995        0.016129\n",
      "23      Germany           Hamburg  2010       34.758065\n",
      "24      Germany            Munich  1995       68.977419\n",
      "25      Germany            Munich  2010       68.803226\n",
      "26        India   Bombay (Mumbai)  1995       87.270000\n",
      "27        India   Bombay (Mumbai)  2010       87.890323\n",
      "28        India          Calcutta  1995       87.636667\n",
      "29        India          Calcutta  2010       88.843333\n",
      "30        India  Chennai (Madras)  1995       86.645161\n",
      "31        India  Chennai (Madras)  2010       88.667742\n",
      "32        India             Delhi  1995       95.830000\n",
      "33        India             Delhi  2010       94.348387\n",
      "34        Japan             Osaka  1995       85.332258\n",
      "35        Japan             Osaka  2010       88.145161\n",
      "36        Japan           Sapporo  1995       67.212903\n",
      "37        Japan           Sapporo  2010       73.109677\n",
      "38        Japan             Tokyo  1995       84.090323\n",
      "39        Japan             Tokyo  2010       84.216129\n",
      "40        Kenya           Nairobi  1995       67.560000\n",
      "41        Kenya           Nairobi  2010       16.103333\n",
      "42   Madagascar      Antananarivo  1995       71.000000\n",
      "43   Madagascar      Antananarivo  2010       71.358065\n",
      "44  Philippines            Manila  1995       84.650000\n",
      "45  Philippines            Manila  2010       88.145161\n",
      "46    Sri Lanka           Colombo  1995       82.373333\n",
      "47    Sri Lanka           Colombo  2010       83.303226\n"
     ]
    }
   ],
   "metadata": {}
  },
  {
   "cell_type": "code",
   "execution_count": 46,
   "source": [
    "#Deriving the city with the maximum temperature for each country\n",
    "df3 = df2.groupby(['Country', 'Year'],as_index=False).AvgTemperature.max()\n",
    "print(df3)"
   ],
   "outputs": [
    {
     "output_type": "stream",
     "name": "stdout",
     "text": [
      "        Country  Year  AvgTemperature\n",
      "0        Canada  1995       72.122581\n",
      "1        Canada  2010       74.393548\n",
      "2       Germany  1995       68.977419\n",
      "3       Germany  2010       68.803226\n",
      "4         India  1995       95.830000\n",
      "5         India  2010       94.348387\n",
      "6         Japan  1995       85.332258\n",
      "7         Japan  2010       88.145161\n",
      "8         Kenya  1995       67.560000\n",
      "9         Kenya  2010       16.103333\n",
      "10   Madagascar  1995       71.000000\n",
      "11   Madagascar  2010       71.358065\n",
      "12  Philippines  1995       84.650000\n",
      "13  Philippines  2010       88.145161\n",
      "14    Sri Lanka  1995       82.373333\n",
      "15    Sri Lanka  2010       83.303226\n"
     ]
    }
   ],
   "metadata": {}
  },
  {
   "cell_type": "code",
   "execution_count": 54,
   "source": [
    "#Seperating the temperature for the two years into seperate columns by first creating new dataframes, then merging them bach\n",
    "\n",
    "df_1995 = df3.loc[df3['Year'] == 1995]\n",
    "df_1995.rename(columns = {'AvgTemperature':'Temperature in 1995'}, inplace = True)\n",
    "\n",
    "\n",
    "df_2010 = df3.loc[df3['Year'] == 2010]\n",
    "df_2010.rename(columns = {'AvgTemperature':'Temperature in 2010'}, inplace = True)\n",
    "\n",
    "\n",
    "MergedData = pd.merge(df_1995,df_2010,on='Country')\n",
    "print(MergedData)\n",
    "CleanedData =MergedData.drop(['Year_x', 'Year_y'], axis=1)\n",
    "print(CleanedData)\n",
    "\n"
   ],
   "outputs": [
    {
     "output_type": "stream",
     "name": "stdout",
     "text": [
      "       Country  Year_x  Temperature in 1995  Year_y  Temperature in 2010\n",
      "0       Canada    1995            72.122581    2010            74.393548\n",
      "1      Germany    1995            68.977419    2010            68.803226\n",
      "2        India    1995            95.830000    2010            94.348387\n",
      "3        Japan    1995            85.332258    2010            88.145161\n",
      "4        Kenya    1995            67.560000    2010            16.103333\n",
      "5   Madagascar    1995            71.000000    2010            71.358065\n",
      "6  Philippines    1995            84.650000    2010            88.145161\n",
      "7    Sri Lanka    1995            82.373333    2010            83.303226\n",
      "       Country  Temperature in 1995  Temperature in 2010\n",
      "0       Canada            72.122581            74.393548\n",
      "1      Germany            68.977419            68.803226\n",
      "2        India            95.830000            94.348387\n",
      "3        Japan            85.332258            88.145161\n",
      "4        Kenya            67.560000            16.103333\n",
      "5   Madagascar            71.000000            71.358065\n",
      "6  Philippines            84.650000            88.145161\n",
      "7    Sri Lanka            82.373333            83.303226\n"
     ]
    },
    {
     "output_type": "stream",
     "name": "stderr",
     "text": [
      "/Users/feekah/opt/anaconda3/lib/python3.8/site-packages/pandas/core/frame.py:4441: SettingWithCopyWarning: \n",
      "A value is trying to be set on a copy of a slice from a DataFrame\n",
      "\n",
      "See the caveats in the documentation: https://pandas.pydata.org/pandas-docs/stable/user_guide/indexing.html#returning-a-view-versus-a-copy\n",
      "  return super().rename(\n",
      "/Users/feekah/opt/anaconda3/lib/python3.8/site-packages/pandas/core/frame.py:4441: SettingWithCopyWarning: \n",
      "A value is trying to be set on a copy of a slice from a DataFrame\n",
      "\n",
      "See the caveats in the documentation: https://pandas.pydata.org/pandas-docs/stable/user_guide/indexing.html#returning-a-view-versus-a-copy\n",
      "  return super().rename(\n"
     ]
    }
   ],
   "metadata": {}
  },
  {
   "cell_type": "code",
   "execution_count": 56,
   "source": [
    "#Plotting the Countries for both temperatures\n",
    "CleanedData.plot(x=\"Country\", y=[\"Temperature in 1995\", \"Temperature in 2010\"], kind=\"bar\",figsize=(9,8))\n",
    "plt.xlabel(\"Countries in 1995 & 2010\")\n",
    "plt.ylabel(\"Temperatures in 1995 & 2010\")\n",
    "plt.show()\n"
   ],
   "outputs": [
    {
     "output_type": "display_data",
     "data": {
      "image/png": "[encoded data removed]",
      "text/plain": [
       "<Figure size 648x576 with 1 Axes>"
      ]
     },
     "metadata": {
      "needs_background": "light"
     }
    }
   ],
   "metadata": {}
  }
 ],
 "metadata": {
  "orig_nbformat": 4,
  "language_info": {
   "name": "python",
   "version": "3.8.8",
   "mimetype": "text/x-python",
   "codemirror_mode": {
    "name": "ipython",
    "version": 3
   },
   "pygments_lexer": "ipython3",
   "nbconvert_exporter": "python",
   "file_extension": ".py"
  },
  "kernelspec": {
   "name": "python3",
   "display_name": "Python 3.8.8 64-bit ('base': conda)"
  },
  "interpreter": {
   "hash": "ddaebef545e1a5fbf8012dba7f7ac0be9c99c4255254a4e5cfb0cfcbc4fae814"
  }
 },
 "nbformat": 4,
 "nbformat_minor": 2
}