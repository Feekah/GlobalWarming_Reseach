{
  "cells": [
    {
      "cell_type": "code",
      "execution_count": 3,
      "source": [
        "import pandas as pd\n",
        "import numpy as np\n",
        "import matplotlib.pyplot as plt"
      ],
      "outputs": [],
      "metadata": {
        "id": "5n1A9-wp4Hup"
      }
    },
    {
      "cell_type": "code",
      "execution_count": 4,
      "source": [
        "data = pd.read_csv(\"city_temperature.csv\")"
      ],
      "outputs": [
        {
          "output_type": "stream",
          "name": "stderr",
          "text": [
            "/Users/feekah/opt/anaconda3/lib/python3.8/site-packages/IPython/core/interactiveshell.py:3165: DtypeWarning: Columns (2) have mixed types.Specify dtype option on import or set low_memory=False.\n",
            "  has_raised = await self.run_ast_nodes(code_ast.body, cell_name,\n"
          ]
        }
      ],
      "metadata": {
        "colab": {
          "base_uri": "https://localhost:8080/",
          "height": 336
        },
        "id": "GAA4fksX4Hur",
        "outputId": "8fead59f-345c-46ac-aebf-4629131dbfd9"
      }
    },
    {
      "cell_type": "code",
      "execution_count": 5,
      "source": [
        "data.head(5)\n",
        "data.describe()\n",
        "data.head(5)"
      ],
      "outputs": [
        {
          "output_type": "execute_result",
          "data": {
            "text/html": [
              "<div>\n",
              "<style scoped>\n",
              "    .dataframe tbody tr th:only-of-type {\n",
              "        vertical-align: middle;\n",
              "    }\n",
              "\n",
              "    .dataframe tbody tr th {\n",
              "        vertical-align: top;\n",
              "    }\n",
              "\n",
              "    .dataframe thead th {\n",
              "        text-align: right;\n",
              "    }\n",
              "</style>\n",
              "<table border=\"1\" class=\"dataframe\">\n",
              "  <thead>\n",
              "    <tr style=\"text-align: right;\">\n",
              "      <th></th>\n",
              "      <th>Region</th>\n",
              "      <th>Country</th>\n",
              "      <th>State</th>\n",
              "      <th>City</th>\n",
              "      <th>Month</th>\n",
              "      <th>Day</th>\n",
              "      <th>Year</th>\n",
              "      <th>AvgTemperature</th>\n",
              "    </tr>\n",
              "  </thead>\n",
              "  <tbody>\n",
              "    <tr>\n",
              "      <th>0</th>\n",
              "      <td>Africa</td>\n",
              "      <td>Algeria</td>\n",
              "      <td>NaN</td>\n",
              "      <td>Algiers</td>\n",
              "      <td>1</td>\n",
              "      <td>1</td>\n",
              "      <td>1995</td>\n",
              "      <td>64.2</td>\n",
              "    </tr>\n",
              "    <tr>\n",
              "      <th>1</th>\n",
              "      <td>Africa</td>\n",
              "      <td>Algeria</td>\n",
              "      <td>NaN</td>\n",
              "      <td>Algiers</td>\n",
              "      <td>1</td>\n",
              "      <td>2</td>\n",
              "      <td>1995</td>\n",
              "      <td>49.4</td>\n",
              "    </tr>\n",
              "    <tr>\n",
              "      <th>2</th>\n",
              "      <td>Africa</td>\n",
              "      <td>Algeria</td>\n",
              "      <td>NaN</td>\n",
              "      <td>Algiers</td>\n",
              "      <td>1</td>\n",
              "      <td>3</td>\n",
              "      <td>1995</td>\n",
              "      <td>48.8</td>\n",
              "    </tr>\n",
              "    <tr>\n",
              "      <th>3</th>\n",
              "      <td>Africa</td>\n",
              "      <td>Algeria</td>\n",
              "      <td>NaN</td>\n",
              "      <td>Algiers</td>\n",
              "      <td>1</td>\n",
              "      <td>4</td>\n",
              "      <td>1995</td>\n",
              "      <td>46.4</td>\n",
              "    </tr>\n",
              "    <tr>\n",
              "      <th>4</th>\n",
              "      <td>Africa</td>\n",
              "      <td>Algeria</td>\n",
              "      <td>NaN</td>\n",
              "      <td>Algiers</td>\n",
              "      <td>1</td>\n",
              "      <td>5</td>\n",
              "      <td>1995</td>\n",
              "      <td>47.9</td>\n",
              "    </tr>\n",
              "  </tbody>\n",
              "</table>\n",
              "</div>"
            ],
            "text/plain": [
              "   Region  Country State     City  Month  Day  Year  AvgTemperature\n",
              "0  Africa  Algeria   NaN  Algiers      1    1  1995            64.2\n",
              "1  Africa  Algeria   NaN  Algiers      1    2  1995            49.4\n",
              "2  Africa  Algeria   NaN  Algiers      1    3  1995            48.8\n",
              "3  Africa  Algeria   NaN  Algiers      1    4  1995            46.4\n",
              "4  Africa  Algeria   NaN  Algiers      1    5  1995            47.9"
            ]
          },
          "metadata": {},
          "execution_count": 5
        }
      ],
      "metadata": {
        "colab": {
          "base_uri": "https://localhost:8080/",
          "height": 206
        },
        "id": "R0tmZl-34Hus",
        "outputId": "d5349547-18ea-428f-a664-dcbd1c2ee839"
      }
    },
    {
      "cell_type": "code",
      "execution_count": 6,
      "source": [
        "#Create a list of countries most prepared for the economic shock of climate change (MostPrepared_Countries)\n",
        "#These countries were gotten from the article with link below\n",
        "#https://www.swissre.com/risk-knowledge/mitigating-climate-risk/countries-economic-shock-climate-change.html\n",
        "\n",
        "MostPrepared_Countries = ['Finland', 'Switzerland', 'Austria', 'Portugal', 'Canada']\n",
        "\n",
        "#Filter out the countries contained in the above list, and the year of focus (1995 and 2010) from the temperature data (Data_MostPreparedCountries)\n",
        "Data_MostPreparedCountries = data.loc[(data['Country'].isin(MostPrepared_Countries )) & (data['Year'].isin([1995, 2010]))]\n",
        "Data_MostPreparedCountries.head()"
      ],
      "outputs": [
        {
          "output_type": "execute_result",
          "data": {
            "text/html": [
              "<div>\n",
              "<style scoped>\n",
              "    .dataframe tbody tr th:only-of-type {\n",
              "        vertical-align: middle;\n",
              "    }\n",
              "\n",
              "    .dataframe tbody tr th {\n",
              "        vertical-align: top;\n",
              "    }\n",
              "\n",
              "    .dataframe thead th {\n",
              "        text-align: right;\n",
              "    }\n",
              "</style>\n",
              "<table border=\"1\" class=\"dataframe\">\n",
              "  <thead>\n",
              "    <tr style=\"text-align: right;\">\n",
              "      <th></th>\n",
              "      <th>Region</th>\n",
              "      <th>Country</th>\n",
              "      <th>State</th>\n",
              "      <th>City</th>\n",
              "      <th>Month</th>\n",
              "      <th>Day</th>\n",
              "      <th>Year</th>\n",
              "      <th>AvgTemperature</th>\n",
              "    </tr>\n",
              "  </thead>\n",
              "  <tbody>\n",
              "    <tr>\n",
              "      <th>632643</th>\n",
              "      <td>Europe</td>\n",
              "      <td>Austria</td>\n",
              "      <td>NaN</td>\n",
              "      <td>Vienna</td>\n",
              "      <td>1</td>\n",
              "      <td>1</td>\n",
              "      <td>1995</td>\n",
              "      <td>35.7</td>\n",
              "    </tr>\n",
              "    <tr>\n",
              "      <th>632644</th>\n",
              "      <td>Europe</td>\n",
              "      <td>Austria</td>\n",
              "      <td>NaN</td>\n",
              "      <td>Vienna</td>\n",
              "      <td>1</td>\n",
              "      <td>2</td>\n",
              "      <td>1995</td>\n",
              "      <td>34.7</td>\n",
              "    </tr>\n",
              "    <tr>\n",
              "      <th>632645</th>\n",
              "      <td>Europe</td>\n",
              "      <td>Austria</td>\n",
              "      <td>NaN</td>\n",
              "      <td>Vienna</td>\n",
              "      <td>1</td>\n",
              "      <td>3</td>\n",
              "      <td>1995</td>\n",
              "      <td>31.4</td>\n",
              "    </tr>\n",
              "    <tr>\n",
              "      <th>632646</th>\n",
              "      <td>Europe</td>\n",
              "      <td>Austria</td>\n",
              "      <td>NaN</td>\n",
              "      <td>Vienna</td>\n",
              "      <td>1</td>\n",
              "      <td>4</td>\n",
              "      <td>1995</td>\n",
              "      <td>25.2</td>\n",
              "    </tr>\n",
              "    <tr>\n",
              "      <th>632647</th>\n",
              "      <td>Europe</td>\n",
              "      <td>Austria</td>\n",
              "      <td>NaN</td>\n",
              "      <td>Vienna</td>\n",
              "      <td>1</td>\n",
              "      <td>5</td>\n",
              "      <td>1995</td>\n",
              "      <td>23.0</td>\n",
              "    </tr>\n",
              "  </tbody>\n",
              "</table>\n",
              "</div>"
            ],
            "text/plain": [
              "        Region  Country State    City  Month  Day  Year  AvgTemperature\n",
              "632643  Europe  Austria   NaN  Vienna      1    1  1995            35.7\n",
              "632644  Europe  Austria   NaN  Vienna      1    2  1995            34.7\n",
              "632645  Europe  Austria   NaN  Vienna      1    3  1995            31.4\n",
              "632646  Europe  Austria   NaN  Vienna      1    4  1995            25.2\n",
              "632647  Europe  Austria   NaN  Vienna      1    5  1995            23.0"
            ]
          },
          "metadata": {},
          "execution_count": 6
        }
      ],
      "metadata": {
        "colab": {
          "base_uri": "https://localhost:8080/",
          "height": 206
        },
        "id": "-K1R3QP04Hus",
        "outputId": "54a8d1b3-1f4e-45c8-e024-2888b57832ee"
      }
    },
    {
      "cell_type": "code",
      "execution_count": 18,
      "source": [
        "#Deriving the average temperature for each month, for the years 1995 and 2010, for each city in the Countries most prepared for Climate Change (AvgMonthData_MostPreparedCountries)\n",
        "\n",
        "AvgMonthData_MostPreparedCountries = Data_MostPreparedCountries.groupby(['Country','City', 'Year', 'Month'],as_index=True).AvgTemperature.mean()\n",
        "print(AvgMonthData_MostPreparedCountries)"
      ],
      "outputs": [
        {
          "output_type": "stream",
          "name": "stdout",
          "text": [
            "Country      City    Year  Month\n",
            "Austria      Vienna  1995  1        31.867742\n",
            "                           2        42.178571\n",
            "                           3        39.864516\n",
            "                           4        50.970000\n",
            "                           5        58.025806\n",
            "                                      ...    \n",
            "Switzerland  Zurich  2010  8        62.903226\n",
            "                           9        55.680000\n",
            "                           10       47.683871\n",
            "                           11       41.510000\n",
            "                           12       30.516129\n",
            "Name: AvgTemperature, Length: 380, dtype: float64\n"
          ]
        }
      ],
      "metadata": {
        "colab": {
          "base_uri": "https://localhost:8080/"
        },
        "id": "o18ZVIXb4Hut",
        "outputId": "942f78b7-ee4c-498a-ea6a-4dd4c48b1ee9"
      }
    },
    {
      "cell_type": "code",
      "execution_count": 8,
      "source": [
        "#Deriving the maximum temperature for the years 1995 and 2010, for each city in the Countries most prepared for Climate Change(MaxTemp_MostPreparedCountries)\n",
        "MaxTemp_MostPreparedCountries = AvgMonthData_MostPreparedCountries.groupby(['Country','City', 'Year'],as_index=False).AvgTemperature.max()\n",
        "print(MaxTemp_MostPreparedCountries)"
      ],
      "outputs": [
        {
          "output_type": "stream",
          "name": "stdout",
          "text": [
            "        Country       City  Year  AvgTemperature\n",
            "0       Austria     Vienna  1995       72.680645\n",
            "1       Austria     Vienna  2010       71.480645\n",
            "2        Canada    Calgary  1995       59.729032\n",
            "3        Canada    Calgary  2010       61.280645\n",
            "4        Canada   Edmonton  1995       62.593548\n",
            "5        Canada   Edmonton  2010       63.767742\n",
            "6        Canada    Halifax  1995       66.232258\n",
            "7        Canada    Halifax  2010       66.580645\n",
            "8        Canada   Montreal  1995       72.122581\n",
            "9        Canada   Montreal  2010       73.580645\n",
            "10       Canada     Ottawa  1995       71.141935\n",
            "11       Canada     Ottawa  2010       72.561290\n",
            "12       Canada     Quebec  1995       69.441935\n",
            "13       Canada     Quebec  2010       70.503226\n",
            "14       Canada     Regina  1995       65.490323\n",
            "15       Canada     Regina  2010       64.803226\n",
            "16       Canada    Toronto  1995       71.616129\n",
            "17       Canada    Toronto  2010       74.393548\n",
            "18       Canada  Vancouver  1995       65.145161\n",
            "19       Canada  Vancouver  2010       64.690323\n",
            "20       Canada   Winnipeg  1995       68.990000\n",
            "21       Canada   Winnipeg  2010       68.696774\n",
            "22      Finland   Helsinki  1995       63.646667\n",
            "23      Finland   Helsinki  2010       72.206452\n",
            "24     Portugal     Lisbon  1995       75.938710\n",
            "25     Portugal     Lisbon  2010       77.332258\n",
            "26  Switzerland       Bern  1995       71.177419\n",
            "27  Switzerland       Bern  2010       71.667742\n",
            "28  Switzerland     Geneva  1995       71.393548\n",
            "29  Switzerland     Geneva  2010       72.506452\n",
            "30  Switzerland     Zurich  1995       68.825806\n",
            "31  Switzerland     Zurich  2010       67.993548\n"
          ]
        }
      ],
      "metadata": {
        "id": "KGzsFitb4Hut",
        "outputId": "8ca60157-f588-42e0-e20a-47c3dbf73288",
        "colab": {
          "base_uri": "https://localhost:8080/"
        }
      }
    },
    {
      "cell_type": "code",
      "execution_count": 9,
      "source": [
        "#Deriving the maximum temperature for each country based on the city with the highest temperature for 1995 and 2010 (MaxtempPerYear)\n",
        "MaxtempPerYear = MaxTemp_MostPreparedCountries.groupby(['Country', 'Year'],as_index=False).AvgTemperature.max()\n",
        "print(MaxtempPerYear)"
      ],
      "outputs": [
        {
          "output_type": "stream",
          "name": "stdout",
          "text": [
            "       Country  Year  AvgTemperature\n",
            "0      Austria  1995       72.680645\n",
            "1      Austria  2010       71.480645\n",
            "2       Canada  1995       72.122581\n",
            "3       Canada  2010       74.393548\n",
            "4      Finland  1995       63.646667\n",
            "5      Finland  2010       72.206452\n",
            "6     Portugal  1995       75.938710\n",
            "7     Portugal  2010       77.332258\n",
            "8  Switzerland  1995       71.393548\n",
            "9  Switzerland  2010       72.506452\n"
          ]
        }
      ],
      "metadata": {
        "id": "3k_GGwAp4Hut",
        "outputId": "50b1aed8-1913-42a0-f39d-271480f2c96a",
        "colab": {
          "base_uri": "https://localhost:8080/"
        }
      }
    },
    {
      "cell_type": "code",
      "execution_count": 10,
      "source": [
        "#Seperating the temperature values for year 1995 into seperate dataframe (Maxtemp_1995)\n",
        "Maxtemp_1995 = MaxtempPerYear.loc[MaxtempPerYear['Year'] == 1995]\n",
        "print(Maxtemp_1995)\n",
        "\n",
        "#Renaming 'Avgtemperature' to 'Temperature in 1995'\n",
        "Maxtemp_1995.rename(columns = {'AvgTemperature':'Temperature in 1995'}, inplace = True)\n",
        "print(Maxtemp_1995)\n",
        "\n",
        "#Seperating the temperature values for year 2010 into seperate dataframe (Maxtemp_2010)\n",
        "Maxtemp_2010 = MaxtempPerYear.loc[MaxtempPerYear['Year'] == 2010]\n",
        "print(Maxtemp_2010)\n",
        "\n",
        "#Renaming 'Avgtemperature' to 'Temperature in 2010'\n",
        "Maxtemp_2010.rename(columns = {'AvgTemperature':'Temperature in 2010'}, inplace = True)\n",
        "print(Maxtemp_2010)\n",
        "\n",
        "#Merging the two dataframes, based on the key 'Country' (LeastAffectedCountries_Data)\n",
        "LeastAffectedCountries_Data = pd.merge(Maxtemp_1995,Maxtemp_2010,on='Country')\n",
        "print(LeastAffectedCountries_Data)\n",
        "\n",
        "#Drop the Columns 'Year_x' and 'Year_y' (LeastAffectedCountries_FinalData)\n",
        "LeastAffectedCountries_FinalData =LeastAffectedCountries_Data.drop(['Year_x', 'Year_y'], axis=1)\n",
        "print(LeastAffectedCountries_FinalData)\n",
        "\n"
      ],
      "outputs": [
        {
          "output_type": "stream",
          "name": "stdout",
          "text": [
            "       Country  Year  AvgTemperature\n",
            "0      Austria  1995       72.680645\n",
            "2       Canada  1995       72.122581\n",
            "4      Finland  1995       63.646667\n",
            "6     Portugal  1995       75.938710\n",
            "8  Switzerland  1995       71.393548\n",
            "       Country  Year  Temperature in 1995\n",
            "0      Austria  1995            72.680645\n",
            "2       Canada  1995            72.122581\n",
            "4      Finland  1995            63.646667\n",
            "6     Portugal  1995            75.938710\n",
            "8  Switzerland  1995            71.393548\n",
            "       Country  Year  AvgTemperature\n",
            "1      Austria  2010       71.480645\n",
            "3       Canada  2010       74.393548\n",
            "5      Finland  2010       72.206452\n",
            "7     Portugal  2010       77.332258\n",
            "9  Switzerland  2010       72.506452\n",
            "       Country  Year  Temperature in 2010\n",
            "1      Austria  2010            71.480645\n",
            "3       Canada  2010            74.393548\n",
            "5      Finland  2010            72.206452\n",
            "7     Portugal  2010            77.332258\n",
            "9  Switzerland  2010            72.506452\n",
            "       Country  Year_x  Temperature in 1995  Year_y  Temperature in 2010\n",
            "0      Austria    1995            72.680645    2010            71.480645\n",
            "1       Canada    1995            72.122581    2010            74.393548\n",
            "2      Finland    1995            63.646667    2010            72.206452\n",
            "3     Portugal    1995            75.938710    2010            77.332258\n",
            "4  Switzerland    1995            71.393548    2010            72.506452\n",
            "       Country  Temperature in 1995  Temperature in 2010\n",
            "0      Austria            72.680645            71.480645\n",
            "1       Canada            72.122581            74.393548\n",
            "2      Finland            63.646667            72.206452\n",
            "3     Portugal            75.938710            77.332258\n",
            "4  Switzerland            71.393548            72.506452\n"
          ]
        },
        {
          "output_type": "stream",
          "name": "stderr",
          "text": [
            "/Users/feekah/opt/anaconda3/lib/python3.8/site-packages/pandas/core/frame.py:4441: SettingWithCopyWarning: \n",
            "A value is trying to be set on a copy of a slice from a DataFrame\n",
            "\n",
            "See the caveats in the documentation: https://pandas.pydata.org/pandas-docs/stable/user_guide/indexing.html#returning-a-view-versus-a-copy\n",
            "  return super().rename(\n",
            "/Users/feekah/opt/anaconda3/lib/python3.8/site-packages/pandas/core/frame.py:4441: SettingWithCopyWarning: \n",
            "A value is trying to be set on a copy of a slice from a DataFrame\n",
            "\n",
            "See the caveats in the documentation: https://pandas.pydata.org/pandas-docs/stable/user_guide/indexing.html#returning-a-view-versus-a-copy\n",
            "  return super().rename(\n"
          ]
        }
      ],
      "metadata": {
        "id": "XLcldU6v4Huu",
        "outputId": "2cb21317-5f74-4453-f90c-b742116b8f06",
        "colab": {
          "base_uri": "https://localhost:8080/"
        }
      }
    },
    {
      "cell_type": "code",
      "execution_count": 11,
      "source": [
        "#Plotting the temperature values for each country for 1995 and 2010\n",
        "LeastAffectedCountries_FinalData.plot(x=\"Country\", y=[\"Temperature in 1995\", \"Temperature in 2010\"], kind=\"bar\",figsize=(9,8))\n",
        "plt.xlabel(\"Countries in 1995 & 2010\")\n",
        "plt.ylabel(\"Temperatures in 1995 & 2010\")\n",
        "plt.title('Temperature changes in Countries least likely to be affected by global warming')\n",
        "plt.show()\n"
      ],
      "outputs": [
        {
          "output_type": "display_data",
          "data": {
            "image/png": "[encoded data removed]",
            "text/plain": [
              "<Figure size 648x576 with 1 Axes>"
            ]
          },
          "metadata": {
            "needs_background": "light"
          }
        }
      ],
      "metadata": {
        "id": "JCLGMvjt4Huu",
        "outputId": "249523a8-6cdc-4144-cc42-6766a5719e59",
        "colab": {
          "base_uri": "https://localhost:8080/",
          "height": 561
        }
      }
    },
    {
      "cell_type": "markdown",
      "source": [
        "Data Preparation for Countries least prepared for Climate change."
      ],
      "metadata": {
        "id": "lxIsLS0GvzfL"
      }
    },
    {
      "cell_type": "code",
      "execution_count": 12,
      "source": [
        "#Create a list of countries least prepared for the shock of climate change (LeastPrepared_Countries)\n",
        "#These countries were gotten from the article with link below\n",
        "#https://www.swissre.com/risk-knowledge/mitigating-climate-risk/countries-economic-shock-climate-change.html\n",
        "\n",
        "LeastPrepared_Countries = ['India', 'Thailand', 'Philippines', 'Malaysia', 'Indonesia']\n",
        "\n",
        "#Filter out the countries contained in the above list, and the year of focus (1995 and 2010) from the temperature data (Data_LeastPreparedCountries)\n",
        "Data_LeastPreparedCountries = data.loc[(data['Country'].isin(LeastPrepared_Countries )) & (data['Year'].isin([1995, 2010]))]\n",
        "Data_LeastPreparedCountries.head()"
      ],
      "outputs": [
        {
          "output_type": "execute_result",
          "data": {
            "text/html": [
              "<div>\n",
              "<style scoped>\n",
              "    .dataframe tbody tr th:only-of-type {\n",
              "        vertical-align: middle;\n",
              "    }\n",
              "\n",
              "    .dataframe tbody tr th {\n",
              "        vertical-align: top;\n",
              "    }\n",
              "\n",
              "    .dataframe thead th {\n",
              "        text-align: right;\n",
              "    }\n",
              "</style>\n",
              "<table border=\"1\" class=\"dataframe\">\n",
              "  <thead>\n",
              "    <tr style=\"text-align: right;\">\n",
              "      <th></th>\n",
              "      <th>Region</th>\n",
              "      <th>Country</th>\n",
              "      <th>State</th>\n",
              "      <th>City</th>\n",
              "      <th>Month</th>\n",
              "      <th>Day</th>\n",
              "      <th>Year</th>\n",
              "      <th>AvgTemperature</th>\n",
              "    </tr>\n",
              "  </thead>\n",
              "  <tbody>\n",
              "    <tr>\n",
              "      <th>312523</th>\n",
              "      <td>Asia</td>\n",
              "      <td>India</td>\n",
              "      <td>NaN</td>\n",
              "      <td>Bombay (Mumbai)</td>\n",
              "      <td>1</td>\n",
              "      <td>1</td>\n",
              "      <td>1995</td>\n",
              "      <td>71.8</td>\n",
              "    </tr>\n",
              "    <tr>\n",
              "      <th>312524</th>\n",
              "      <td>Asia</td>\n",
              "      <td>India</td>\n",
              "      <td>NaN</td>\n",
              "      <td>Bombay (Mumbai)</td>\n",
              "      <td>1</td>\n",
              "      <td>2</td>\n",
              "      <td>1995</td>\n",
              "      <td>72.0</td>\n",
              "    </tr>\n",
              "    <tr>\n",
              "      <th>312525</th>\n",
              "      <td>Asia</td>\n",
              "      <td>India</td>\n",
              "      <td>NaN</td>\n",
              "      <td>Bombay (Mumbai)</td>\n",
              "      <td>1</td>\n",
              "      <td>3</td>\n",
              "      <td>1995</td>\n",
              "      <td>70.3</td>\n",
              "    </tr>\n",
              "    <tr>\n",
              "      <th>312526</th>\n",
              "      <td>Asia</td>\n",
              "      <td>India</td>\n",
              "      <td>NaN</td>\n",
              "      <td>Bombay (Mumbai)</td>\n",
              "      <td>1</td>\n",
              "      <td>4</td>\n",
              "      <td>1995</td>\n",
              "      <td>69.7</td>\n",
              "    </tr>\n",
              "    <tr>\n",
              "      <th>312527</th>\n",
              "      <td>Asia</td>\n",
              "      <td>India</td>\n",
              "      <td>NaN</td>\n",
              "      <td>Bombay (Mumbai)</td>\n",
              "      <td>1</td>\n",
              "      <td>5</td>\n",
              "      <td>1995</td>\n",
              "      <td>71.3</td>\n",
              "    </tr>\n",
              "  </tbody>\n",
              "</table>\n",
              "</div>"
            ],
            "text/plain": [
              "       Region Country State             City  Month  Day  Year  AvgTemperature\n",
              "312523   Asia   India   NaN  Bombay (Mumbai)      1    1  1995            71.8\n",
              "312524   Asia   India   NaN  Bombay (Mumbai)      1    2  1995            72.0\n",
              "312525   Asia   India   NaN  Bombay (Mumbai)      1    3  1995            70.3\n",
              "312526   Asia   India   NaN  Bombay (Mumbai)      1    4  1995            69.7\n",
              "312527   Asia   India   NaN  Bombay (Mumbai)      1    5  1995            71.3"
            ]
          },
          "metadata": {},
          "execution_count": 12
        }
      ],
      "metadata": {
        "colab": {
          "base_uri": "https://localhost:8080/",
          "height": 206
        },
        "id": "3MCSda2uwSLH",
        "outputId": "99e9dbc9-13bb-4877-d234-0d032cba5ff1"
      }
    },
    {
      "cell_type": "code",
      "execution_count": 13,
      "source": [
        "#Deriving the average temperature for each month, for the years 1995 and 2010, for each city in the Countries least for Climate Change (AvgMonthData_LeastPreparedCountries)\n",
        "\n",
        "AvgMonthData_LeastPreparedCountries = Data_LeastPreparedCountries.groupby(['Country','City', 'Year', 'Month'],as_index=False).AvgTemperature.mean()\n",
        "print(AvgMonthData_LeastPreparedCountries)"
      ],
      "outputs": [
        {
          "output_type": "stream",
          "name": "stdout",
          "text": [
            "      Country             City  Year  Month  AvgTemperature\n",
            "0       India  Bombay (Mumbai)  1995      1       72.393548\n",
            "1       India  Bombay (Mumbai)  1995      2       76.214286\n",
            "2       India  Bombay (Mumbai)  1995      3       73.638710\n",
            "3       India  Bombay (Mumbai)  1995      4       84.120000\n",
            "4       India  Bombay (Mumbai)  1995      5       86.819355\n",
            "..        ...              ...   ...    ...             ...\n",
            "187  Thailand          Bangkok  2010      8       82.854839\n",
            "188  Thailand          Bangkok  2010      9       83.020000\n",
            "189  Thailand          Bangkok  2010     10       81.716129\n",
            "190  Thailand          Bangkok  2010     11       82.086667\n",
            "191  Thailand          Bangkok  2010     12       80.761290\n",
            "\n",
            "[192 rows x 5 columns]\n"
          ]
        }
      ],
      "metadata": {
        "colab": {
          "base_uri": "https://localhost:8080/"
        },
        "id": "ICiYsju7xEuF",
        "outputId": "0857ef67-db75-40b2-9bed-0b34308c5435"
      }
    },
    {
      "cell_type": "code",
      "execution_count": 14,
      "source": [
        "#Deriving the maximum temperature for the years 1995 and 2010, for each city in the Countries least prepared for Climate Change(MaxTemp_LeastPreparedCountries)\n",
        "MaxTemp_LeastPreparedCountries = AvgMonthData_LeastPreparedCountries.groupby(['Country','City', 'Year'],as_index=False).AvgTemperature.max()\n",
        "print(MaxTemp_LeastPreparedCountries)"
      ],
      "outputs": [
        {
          "output_type": "stream",
          "name": "stdout",
          "text": [
            "        Country              City  Year  AvgTemperature\n",
            "0         India   Bombay (Mumbai)  1995       87.270000\n",
            "1         India   Bombay (Mumbai)  2010       87.890323\n",
            "2         India          Calcutta  1995       87.636667\n",
            "3         India          Calcutta  2010       88.843333\n",
            "4         India  Chennai (Madras)  1995       86.645161\n",
            "5         India  Chennai (Madras)  2010       88.667742\n",
            "6         India             Delhi  1995       95.830000\n",
            "7         India             Delhi  2010       94.348387\n",
            "8     Indonesia           Jakarta  1995       75.254839\n",
            "9     Indonesia           Jakarta  2010       85.823333\n",
            "10     Malaysia      Kuala Lumpur  1995       82.838710\n",
            "11     Malaysia      Kuala Lumpur  2010       85.012903\n",
            "12  Philippines            Manila  1995       84.650000\n",
            "13  Philippines            Manila  2010       88.145161\n",
            "14     Thailand           Bangkok  1995      -99.000000\n",
            "15     Thailand           Bangkok  2010       88.603333\n"
          ]
        }
      ],
      "metadata": {
        "colab": {
          "base_uri": "https://localhost:8080/"
        },
        "id": "5I_eo-5LxPaf",
        "outputId": "c8dde31a-3a56-40bb-e996-51d10cbc638d"
      }
    },
    {
      "cell_type": "code",
      "execution_count": 15,
      "source": [
        "#Deriving the maximum temperature for each country based on the city with the highest temperature for 1995 and 2010 (MaxtempPerYear)\n",
        "MaxtempPerYear2 = MaxTemp_LeastPreparedCountries.groupby(['Country', 'Year'],as_index=False).AvgTemperature.max()\n",
        "print(MaxtempPerYear2)"
      ],
      "outputs": [
        {
          "output_type": "stream",
          "name": "stdout",
          "text": [
            "       Country  Year  AvgTemperature\n",
            "0        India  1995       95.830000\n",
            "1        India  2010       94.348387\n",
            "2    Indonesia  1995       75.254839\n",
            "3    Indonesia  2010       85.823333\n",
            "4     Malaysia  1995       82.838710\n",
            "5     Malaysia  2010       85.012903\n",
            "6  Philippines  1995       84.650000\n",
            "7  Philippines  2010       88.145161\n",
            "8     Thailand  1995      -99.000000\n",
            "9     Thailand  2010       88.603333\n"
          ]
        }
      ],
      "metadata": {
        "colab": {
          "base_uri": "https://localhost:8080/"
        },
        "id": "x3bIlDm6xirY",
        "outputId": "e86af82f-891d-4712-f056-12bd4fdeb362"
      }
    },
    {
      "cell_type": "code",
      "execution_count": 16,
      "source": [
        "#Seperating the temperature values for year 1995 into seperate dataframe (Maxtemp2_1995)\n",
        "Maxtemp2_1995 = MaxtempPerYear2.loc[MaxtempPerYear['Year'] == 1995]\n",
        "print(Maxtemp2_1995)\n",
        "\n",
        "#Renaming 'Avgtemperature' to 'Temperature in 1995'\n",
        "Maxtemp2_1995.rename(columns = {'AvgTemperature':'Temperature in 1995'}, inplace = True)\n",
        "print(Maxtemp2_1995)\n",
        "\n",
        "#Seperating the temperature values for year 2010 into seperate dataframe (Maxtemp2_2010)\n",
        "Maxtemp2_2010 = MaxtempPerYear2.loc[MaxtempPerYear['Year'] == 2010]\n",
        "print(Maxtemp2_2010)\n",
        "\n",
        "#Renaming 'Avgtemperature' to 'Temperature in 2010'\n",
        "Maxtemp2_2010.rename(columns = {'AvgTemperature':'Temperature in 2010'}, inplace = True)\n",
        "print(Maxtemp2_2010)\n",
        "\n",
        "#Merging the two dataframes, based on the key 'Country' (MostAffectedCountries_Data)\n",
        "MostAffectedCountries_Data = pd.merge(Maxtemp2_1995,Maxtemp2_2010,on='Country')\n",
        "print(MostAffectedCountries_Data)\n",
        "\n",
        "#Drop the Columns 'Year_x' and 'Year_y' (MostAffectedCountries_FinalData)\n",
        "MostAffectedCountries_FinalData =MostAffectedCountries_Data.drop(['Year_x', 'Year_y'], axis=1)\n",
        "print(MostAffectedCountries_FinalData)\n",
        "\n"
      ],
      "outputs": [
        {
          "output_type": "stream",
          "name": "stdout",
          "text": [
            "       Country  Year  AvgTemperature\n",
            "0        India  1995       95.830000\n",
            "2    Indonesia  1995       75.254839\n",
            "4     Malaysia  1995       82.838710\n",
            "6  Philippines  1995       84.650000\n",
            "8     Thailand  1995      -99.000000\n",
            "       Country  Year  Temperature in 1995\n",
            "0        India  1995            95.830000\n",
            "2    Indonesia  1995            75.254839\n",
            "4     Malaysia  1995            82.838710\n",
            "6  Philippines  1995            84.650000\n",
            "8     Thailand  1995           -99.000000\n",
            "       Country  Year  AvgTemperature\n",
            "1        India  2010       94.348387\n",
            "3    Indonesia  2010       85.823333\n",
            "5     Malaysia  2010       85.012903\n",
            "7  Philippines  2010       88.145161\n",
            "9     Thailand  2010       88.603333\n",
            "       Country  Year  Temperature in 2010\n",
            "1        India  2010            94.348387\n",
            "3    Indonesia  2010            85.823333\n",
            "5     Malaysia  2010            85.012903\n",
            "7  Philippines  2010            88.145161\n",
            "9     Thailand  2010            88.603333\n",
            "       Country  Year_x  Temperature in 1995  Year_y  Temperature in 2010\n",
            "0        India    1995            95.830000    2010            94.348387\n",
            "1    Indonesia    1995            75.254839    2010            85.823333\n",
            "2     Malaysia    1995            82.838710    2010            85.012903\n",
            "3  Philippines    1995            84.650000    2010            88.145161\n",
            "4     Thailand    1995           -99.000000    2010            88.603333\n",
            "       Country  Temperature in 1995  Temperature in 2010\n",
            "0        India            95.830000            94.348387\n",
            "1    Indonesia            75.254839            85.823333\n",
            "2     Malaysia            82.838710            85.012903\n",
            "3  Philippines            84.650000            88.145161\n",
            "4     Thailand           -99.000000            88.603333\n"
          ]
        },
        {
          "output_type": "stream",
          "name": "stderr",
          "text": [
            "/Users/feekah/opt/anaconda3/lib/python3.8/site-packages/pandas/core/frame.py:4441: SettingWithCopyWarning: \n",
            "A value is trying to be set on a copy of a slice from a DataFrame\n",
            "\n",
            "See the caveats in the documentation: https://pandas.pydata.org/pandas-docs/stable/user_guide/indexing.html#returning-a-view-versus-a-copy\n",
            "  return super().rename(\n",
            "/Users/feekah/opt/anaconda3/lib/python3.8/site-packages/pandas/core/frame.py:4441: SettingWithCopyWarning: \n",
            "A value is trying to be set on a copy of a slice from a DataFrame\n",
            "\n",
            "See the caveats in the documentation: https://pandas.pydata.org/pandas-docs/stable/user_guide/indexing.html#returning-a-view-versus-a-copy\n",
            "  return super().rename(\n"
          ]
        }
      ],
      "metadata": {
        "colab": {
          "base_uri": "https://localhost:8080/"
        },
        "id": "4Qu4_iE_xq5z",
        "outputId": "a36bee72-4721-4ee4-8bcb-1a7c8f1ea612"
      }
    },
    {
      "cell_type": "code",
      "execution_count": 17,
      "source": [
        "#Plotting the temperature values for each country for 1995 and 2010\n",
        "MostAffectedCountries_FinalData.plot(x=\"Country\", y=[\"Temperature in 1995\", \"Temperature in 2010\"], kind=\"bar\",figsize=(9,8))\n",
        "plt.xlabel(\"Countries in 1995 & 2010\")\n",
        "plt.ylabel(\"Temperatures in 1995 & 2010\")\n",
        "plt.title('Temperature changes in Countries most likely to be affected by global warming')\n",
        "plt.show()"
      ],
      "outputs": [
        {
          "output_type": "display_data",
          "data": {
            "image/png": "[encoded data removed]",
            "text/plain": [
              "<Figure size 648x576 with 1 Axes>"
            ]
          },
          "metadata": {
            "needs_background": "light"
          }
        }
      ],
      "metadata": {
        "colab": {
          "base_uri": "https://localhost:8080/",
          "height": 557
        },
        "id": "JxtVHmz1yiVL",
        "outputId": "be30c9ca-0fed-4c81-d61b-cbfda7633f78"
      }
    }
  ],
  "metadata": {
    "colab": {
      "name": "chai.ipynb",
      "provenance": []
    },
    "interpreter": {
      "hash": "ddaebef545e1a5fbf8012dba7f7ac0be9c99c4255254a4e5cfb0cfcbc4fae814"
    },
    "kernelspec": {
      "name": "python3",
      "display_name": "Python 3.8.8 64-bit ('base': conda)"
    },
    "language_info": {
      "codemirror_mode": {
        "name": "ipython",
        "version": 3
      },
      "file_extension": ".py",
      "mimetype": "text/x-python",
      "name": "python",
      "nbconvert_exporter": "python",
      "pygments_lexer": "ipython3",
      "version": "3.8.8"
    },
    "accelerator": "GPU",
    "gpuClass": "standard"
  },
  "nbformat": 4,
  "nbformat_minor": 2
}